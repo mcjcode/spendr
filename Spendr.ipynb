{
 "cells": [
  {
   "cell_type": "code",
   "execution_count": null,
   "metadata": {},
   "outputs": [],
   "source": [
    "%matplotlib inline"
   ]
  },
  {
   "cell_type": "code",
   "execution_count": null,
   "metadata": {},
   "outputs": [],
   "source": [
    "import numpy as np\n",
    "import pandas as pd\n",
    "import seaborn as sns\n",
    "import matplotlib\n",
    "from matplotlib import pyplot as plt\n",
    "from importlib import reload\n",
    "import profile"
   ]
  },
  {
   "cell_type": "code",
   "execution_count": null,
   "metadata": {},
   "outputs": [],
   "source": [
    "pd.set_option('display.max_columns',100)\n",
    "pd.set_option('display.precision', 2)\n",
    "pd.set_option('display.float_format', lambda fl: f'{fl:,.2f}')\n",
    "matplotlib.rcParams['figure.figsize'] = [8.0, 8.0/1.61]"
   ]
  },
  {
   "cell_type": "code",
   "execution_count": null,
   "metadata": {},
   "outputs": [],
   "source": [
    "import tax; reload(tax);\n",
    "import policies; reload(policies);\n",
    "import simulate; reload(simulate); from simulate import *"
   ]
  },
  {
   "cell_type": "code",
   "execution_count": null,
   "metadata": {},
   "outputs": [],
   "source": [
    "df = test_yaml('config.yaml')"
   ]
  },
  {
   "cell_type": "code",
   "execution_count": null,
   "metadata": {},
   "outputs": [],
   "source": [
    "nsims = df.Sim.max()"
   ]
  },
  {
   "cell_type": "code",
   "execution_count": null,
   "metadata": {},
   "outputs": [],
   "source": [
    "plt.hist(df.Return[~df.Last],bins=nsims//5, density=True);\n",
    "ret_mean = df.Return.mean()\n",
    "ret_std = df.Return[~df.Last].std()\n",
    "plt.xlabel(f'return (mean {ret_mean:.1f}%, stdev={ret_std:.1f}%)')\n",
    "plt.ylabel('Density')\n",
    "plt.grid(True)"
   ]
  },
  {
   "cell_type": "code",
   "execution_count": null,
   "metadata": {},
   "outputs": [],
   "source": [
    "f0 =  df.Surv1 &  df.Surv2 & df.Last\n",
    "f1 =  df.Surv1 & ~df.Surv2 & df.Last\n",
    "f2 = ~df.Surv1 &  df.Surv2 & df.Last\n",
    "\n",
    "for f in [f0, f1, f2]:\n",
    "    pbankrupt = float(sum(df.TotAssets[f]==0))/sum(df.Last)\n",
    "    print(100*pbankrupt)"
   ]
  },
  {
   "cell_type": "code",
   "execution_count": null,
   "metadata": {},
   "outputs": [],
   "source": [
    "pbankrupt = float(sum(df.TotAssets[df.Last]==0))/sum(df.Last)\n",
    "#print(pbankrupt)\n",
    "plt.hist(df.TotAssets[df.Last&(df.TotAssets>0)].apply(np.log10),bins=nsims//50,density=True);\n",
    "plt.xlabel(f'$\\log_{{10}}$ of assets at death of both persons (prob of bankruptcy={pbankrupt})');\n",
    "plt.ylabel('density')\n",
    "qs = [0.25,0.50,0.75]\n",
    "quantiles = [df.TotAssets[df.Last].quantile(q) for q in qs]\n",
    "ylims=plt.ylim()\n",
    "for qv in quantiles:\n",
    "    plt.plot([np.log10(qv),np.log10(qv)],ylims,'k',linewidth=0.5)"
   ]
  },
  {
   "cell_type": "code",
   "execution_count": null,
   "metadata": {},
   "outputs": [],
   "source": [
    "fig, axs = plt.subplots(1,2)\n",
    "for ipers in [1,2]:\n",
    "    ax = axs[ipers-1]\n",
    "    col_name = f'A{ipers}'\n",
    "    age = df[col_name]\n",
    "    nbins = max(age) - min(age) + 1\n",
    "    ax.hist(age[df.Last],bins=nbins,density=True)\n",
    "    ax.set_xlabel(f'Age of person {ipers} at death')\n",
    "    quantiles = [age[df.Last].quantile(q) for q in qs]\n",
    "    ylims=ax.get_ylim()\n",
    "    for qv in quantiles:\n",
    "        ax.plot([qv,qv],ylims,'k',linewidth=0.5)"
   ]
  },
  {
   "cell_type": "code",
   "execution_count": null,
   "metadata": {},
   "outputs": [],
   "source": [
    "#\n",
    "# find examples where we failed (ran out of money before we both died)\n",
    "# and then figure out what happened\n",
    "#\n",
    "# 1) did we just live too long?\n",
    "# 2) crappy stock returns?\n",
    "# 3) paid too much in taxes? (we can start tapping the 401k money at 59 1/2)\n",
    "#\n",
    "# Required Minimum Distribution (RMD) - still haven't built this in to the stuff.\n",
    "#\n",
    "df_fails = df[(df.TotAssets==0) & df.Last][['Sim']]\n",
    "df_fails['Fail'] = True\n",
    "gb = df[~df.Last][['Sim','Withdraw','Taxes','Return','Year']].groupby(by='Sim')\n",
    "df2 = gb.agg(func={'Withdraw':'sum', \n",
    "                   'Taxes':'sum',\n",
    "                   'Return':np.mean,\n",
    "                   'Year':len})\n",
    "df2['AvgTaxPerYear'] = df2['Taxes']/df2['Year']\n",
    "df2 = df2.merge(df_fails,how='left',on='Sim')\n",
    "df2.Fail = df2.Fail.apply(lambda xx: True if xx==True else False)"
   ]
  },
  {
   "cell_type": "code",
   "execution_count": null,
   "metadata": {},
   "outputs": [],
   "source": [
    "print(df2.Sim[df2.Fail].tolist())"
   ]
  },
  {
   "cell_type": "code",
   "execution_count": null,
   "metadata": {},
   "outputs": [],
   "source": [
    "from matplotlib.ticker import FormatStrFormatter, StrMethodFormatter, FuncFormatter\n",
    "\n",
    "def plot_sim(df=df[df.Sim==1]):\n",
    "    df = df[:-1]\n",
    "    fig, axs = plt.subplots(4,1,figsize=(13,8))\n",
    "    axs[0].stackplot(df.Year, [df.Cash401k, df.PstTaxCash, df.Stock401k, df.PstTaxStok], labels=['cash401k','cash','stock401k','stock'])\n",
    "    axs[0].legend()\n",
    "    axs[0].set_xlim([2022,2078])\n",
    "    axs[0].yaxis.set_major_formatter(StrMethodFormatter('${x:,.0f}'))\n",
    "    \n",
    "    axs[1].plot(df.Year, df.Withdraw, label='withdraw')\n",
    "    axs[1].plot(df.Year, df.Spend, label='spend')\n",
    "    axs[1].plot(df.Year, df.RMD, label='RMD')\n",
    "    axs[1].legend()\n",
    "    axs[1].yaxis.set_major_formatter(StrMethodFormatter('${x:,.0f}'))\n",
    "    axs[1].set_xlim([2022,2078])\n",
    "    \n",
    "    axs[2].bar(df.Year, df.SSN, label='Social Security')\n",
    "    axs[2].bar(df.Year, df.Ins, label='Insurance')\n",
    "    axs[2].set_xlim([2022,2078])\n",
    "    axs[2].legend()\n",
    "    axs[2].yaxis.set_major_formatter(StrMethodFormatter('${x:,.0f}'))\n",
    "\n",
    "    axs[3].plot(df.Year, df.Taxes, label='Taxes')\n",
    "    axs[3].set_xlim([2022,2078])\n",
    "    axs[3].legend()\n",
    "    axs[3].yaxis.set_major_formatter(StrMethodFormatter('${x:,.0f}'))\n",
    "    \n",
    "    for yr, surv1 in zip(df.Year, df.Surv1):\n",
    "        if not surv1:\n",
    "            axs[0].axvline(yr,color='blue')\n",
    "            print('1 dies in year', yr)\n",
    "            break\n",
    "    for yr, surv2 in zip(df.Year, df.Surv2):\n",
    "        if not surv2:\n",
    "            axs[0].axvline(yr,color='red')\n",
    "            print('2 dies in year', yr)\n",
    "            break"
   ]
  },
  {
   "cell_type": "code",
   "execution_count": null,
   "metadata": {},
   "outputs": [],
   "source": [
    "plot_sim(df[df.Sim==86])"
   ]
  },
  {
   "cell_type": "code",
   "execution_count": null,
   "metadata": {},
   "outputs": [],
   "source": [
    "df[df.Sim==86]"
   ]
  },
  {
   "cell_type": "code",
   "execution_count": null,
   "metadata": {},
   "outputs": [],
   "source": []
  }
 ],
 "metadata": {
  "kernelspec": {
   "display_name": "Python 3",
   "language": "python",
   "name": "python3"
  },
  "language_info": {
   "codemirror_mode": {
    "name": "ipython",
    "version": 3
   },
   "file_extension": ".py",
   "mimetype": "text/x-python",
   "name": "python",
   "nbconvert_exporter": "python",
   "pygments_lexer": "ipython3",
   "version": "3.7.6"
  }
 },
 "nbformat": 4,
 "nbformat_minor": 4
}
